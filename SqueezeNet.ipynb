{
  "nbformat": 4,
  "nbformat_minor": 0,
  "metadata": {
    "colab": {
      "provenance": [],
      "gpuType": "T4",
      "authorship_tag": "ABX9TyNJmqbGT1yLraEv+fHZZUAs",
      "include_colab_link": true
    },
    "kernelspec": {
      "name": "python3",
      "display_name": "Python 3"
    },
    "language_info": {
      "name": "python"
    },
    "gpuClass": "standard"
  },
  "cells": [
    {
      "cell_type": "markdown",
      "metadata": {
        "id": "view-in-github",
        "colab_type": "text"
      },
      "source": [
        "<a href=\"https://colab.research.google.com/github/PRASANNA-416/Human-Activity-Detection-/blob/main/SqueezeNet.ipynb\" target=\"_parent\"><img src=\"https://colab.research.google.com/assets/colab-badge.svg\" alt=\"Open In Colab\"/></a>"
      ]
    },
    {
      "cell_type": "code",
      "execution_count": 1,
      "metadata": {
        "colab": {
          "base_uri": "https://localhost:8080/"
        },
        "id": "QIA3bpqBTJpK",
        "outputId": "6cfce25d-90c7-4c52-e7e0-16ae2d1bbe82"
      },
      "outputs": [
        {
          "output_type": "stream",
          "name": "stdout",
          "text": [
            "Mounted at /content/gdrive\n"
          ]
        }
      ],
      "source": [
        "from google.colab import drive\n",
        "drive.mount(\"/content/gdrive\")"
      ]
    },
    {
      "cell_type": "code",
      "source": [
        "import pandas as pd\n",
        "\n",
        "# Load the training CSV file\n",
        "train_csv_path = '/content/gdrive/MyDrive/ML/Human Action Recognition/Training_set.csv'\n",
        "train_data = pd.read_csv(train_csv_path)\n",
        "\n",
        "# Load the testing CSV file\n",
        "test_csv_path = '/content/gdrive/MyDrive/ML/Human Action Recognition/testing_set.csv'\n",
        "test_data = pd.read_csv(test_csv_path)\n"
      ],
      "metadata": {
        "id": "cpbk12HXTN-6"
      },
      "execution_count": 2,
      "outputs": []
    },
    {
      "cell_type": "code",
      "source": [
        "import pandas as pd\n",
        "import numpy as np\n",
        "from tensorflow.keras.preprocessing.image import ImageDataGenerator\n",
        "\n",
        "# Load the CSV files\n",
        "train_csv_path = '/content/gdrive/MyDrive/ML/Human Action Recognition/Training_set.csv'\n",
        "test_csv_path = '/content/gdrive/MyDrive/ML/Human Action Recognition/testing_set.csv'\n",
        "\n",
        "train_data = pd.read_csv(train_csv_path)\n",
        "test_data = pd.read_csv(test_csv_path)\n",
        "\n",
        "# Define the target image size and batch size\n",
        "target_size = (224, 224)  # Adjust according to your requirements\n",
        "batch_size = 32\n",
        "\n",
        "# Create ImageDataGenerators with preprocessing options\n",
        "train_datagen = ImageDataGenerator(\n",
        "    rescale=1.0/255.0,  # Normalize pixel values between 0 and 1\n",
        "    rotation_range=20,  # Randomly rotate images by 20 degrees\n",
        "    width_shift_range=0.2,  # Randomly shift the width by 20%\n",
        "    height_shift_range=0.2,  # Randomly shift the height by 20%\n",
        "    horizontal_flip=True  # Randomly flip images horizontally\n",
        ")\n",
        "\n",
        "test_datagen = ImageDataGenerator(rescale=1.0/255.0)\n",
        "\n",
        "# Create train and test generators\n",
        "train_generator = train_datagen.flow_from_dataframe(\n",
        "    dataframe=train_data,\n",
        "    directory='/content/gdrive/MyDrive/ML/Human Action Recognition/train',  # Directory containing the train images\n",
        "    x_col='filename',  # Column name for the filenames\n",
        "    y_col='label',  # Column name for the labels\n",
        "    target_size=target_size,\n",
        "    batch_size=batch_size,\n",
        "    class_mode='categorical'\n",
        ")\n",
        "\n",
        "test_generator = test_datagen.flow_from_dataframe(\n",
        "    dataframe=test_data,\n",
        "    directory='/content/gdrive/MyDrive/ML/Human Action Recognition/test',\n",
        "    x_col='filename',  # Column name for the filenames\n",
        "    y_col='label',  # Column name for the labels\n",
        "    target_size=target_size,\n",
        "    batch_size=batch_size,\n",
        "    class_mode='categorical'\n",
        ")\n",
        "\n",
        "# Check the class indices assigned by the generator\n",
        "class_indices = test_generator.class_indices\n",
        "print(class_indices)\n",
        "\n"
      ],
      "metadata": {
        "colab": {
          "base_uri": "https://localhost:8080/"
        },
        "id": "jSvozPM9TOBD",
        "outputId": "bb55551b-2eac-43d0-f9fe-f60227b56795"
      },
      "execution_count": 3,
      "outputs": [
        {
          "output_type": "stream",
          "name": "stdout",
          "text": [
            "Found 12100 validated image filenames belonging to 15 classes.\n",
            "Found 500 validated image filenames belonging to 15 classes.\n",
            "{'calling': 0, 'clapping': 1, 'cycling': 2, 'dancing': 3, 'drinking': 4, 'eating': 5, 'fighting': 6, 'hugging': 7, 'laughing': 8, 'listening_to_music': 9, 'running': 10, 'sitting': 11, 'sleeping': 12, 'texting': 13, 'using_laptop': 14}\n"
          ]
        }
      ]
    },
    {
      "cell_type": "code",
      "source": [
        "import tensorflow as tf\n",
        "import tensorflow_hub as hub\n",
        "\n",
        "# Define the model\n",
        "m = tf.keras.Sequential([\n",
        "    hub.KerasLayer(\n",
        "        'https://tfhub.dev/google/edgetpu/vision/mobilenet-edgetpu-v2-feature-vector/tiny/2',\n",
        "        trainable=True),\n",
        "    tf.keras.layers.Flatten(),\n",
        "    tf.keras.layers.Dense(15, activation='softmax')\n",
        "])\n",
        "\n",
        "\n",
        "# Build the model with the default input shape\n",
        "m.build((None, 224, 224, 3))  # Batch input shape.\n",
        "\n",
        "# Print the model summary\n",
        "print(m.summary())\n",
        "\n"
      ],
      "metadata": {
        "colab": {
          "base_uri": "https://localhost:8080/"
        },
        "id": "PKHCyUV1TODx",
        "outputId": "d058626c-dd16-404f-c747-670a9ef677dd"
      },
      "execution_count": 4,
      "outputs": [
        {
          "output_type": "stream",
          "name": "stdout",
          "text": [
            "Model: \"sequential\"\n",
            "_________________________________________________________________\n",
            " Layer (type)                Output Shape              Param #   \n",
            "=================================================================\n",
            " keras_layer (KerasLayer)    (None, 1, 1, 1280)        2517920   \n",
            "                                                                 \n",
            " flatten (Flatten)           (None, 1280)              0         \n",
            "                                                                 \n",
            " dense (Dense)               (None, 15)                19215     \n",
            "                                                                 \n",
            "=================================================================\n",
            "Total params: 2,537,135\n",
            "Trainable params: 2,499,663\n",
            "Non-trainable params: 37,472\n",
            "_________________________________________________________________\n",
            "None\n"
          ]
        }
      ]
    },
    {
      "cell_type": "code",
      "source": [
        "print(m.get_config())"
      ],
      "metadata": {
        "colab": {
          "base_uri": "https://localhost:8080/"
        },
        "id": "QOblMsfkcgnt",
        "outputId": "45789c2c-f81c-4841-c136-09d37b6d78f8"
      },
      "execution_count": 5,
      "outputs": [
        {
          "output_type": "stream",
          "name": "stdout",
          "text": [
            "{'name': 'sequential', 'layers': [{'class_name': 'InputLayer', 'config': {'batch_input_shape': (None, 224, 224, 3), 'dtype': 'float32', 'sparse': False, 'ragged': False, 'name': 'keras_layer_input'}}, {'class_name': 'KerasLayer', 'config': {'name': 'keras_layer', 'trainable': True, 'dtype': 'float32', 'handle': 'https://tfhub.dev/google/edgetpu/vision/mobilenet-edgetpu-v2-feature-vector/tiny/2'}}, {'class_name': 'Flatten', 'config': {'name': 'flatten', 'trainable': True, 'dtype': 'float32', 'data_format': 'channels_last'}}, {'class_name': 'Dense', 'config': {'name': 'dense', 'trainable': True, 'dtype': 'float32', 'units': 15, 'activation': 'softmax', 'use_bias': True, 'kernel_initializer': {'class_name': 'GlorotUniform', 'config': {'seed': None}}, 'bias_initializer': {'class_name': 'Zeros', 'config': {}}, 'kernel_regularizer': None, 'bias_regularizer': None, 'activity_regularizer': None, 'kernel_constraint': None, 'bias_constraint': None}}]}\n"
          ]
        }
      ]
    },
    {
      "cell_type": "code",
      "source": [
        "print(m.layers)"
      ],
      "metadata": {
        "colab": {
          "base_uri": "https://localhost:8080/"
        },
        "id": "CC3WrbdMdwjI",
        "outputId": "adecd4c7-6619-4e69-e9d0-e9f8461b0c6a"
      },
      "execution_count": 6,
      "outputs": [
        {
          "output_type": "stream",
          "name": "stdout",
          "text": [
            "[<tensorflow_hub.keras_layer.KerasLayer object at 0x7f10ca6e3b80>, <keras.layers.reshaping.flatten.Flatten object at 0x7f105f482f80>, <keras.layers.core.dense.Dense object at 0x7f105f372320>]\n"
          ]
        }
      ]
    },
    {
      "cell_type": "code",
      "source": [
        "layer = m.layers[0]  # Get the first layer (KerasLayer)\n",
        "\n",
        "print(layer.get_config())  # Print the layer's configuration\n",
        "# print(layer.trainable_weights)  # Print the trainable weights of the layer\n",
        "# print(layer.non_trainable_weights)  # Print the non-trainable weights of the layer\n",
        "print(layer.trainable)  # Print whether the layer is trainable or not\n"
      ],
      "metadata": {
        "colab": {
          "base_uri": "https://localhost:8080/"
        },
        "id": "oKo-yERyeL5m",
        "outputId": "d2a06638-7a7c-473d-f48c-66da968c8088"
      },
      "execution_count": 9,
      "outputs": [
        {
          "output_type": "stream",
          "name": "stdout",
          "text": [
            "{'name': 'keras_layer', 'trainable': True, 'dtype': 'float32', 'handle': 'https://tfhub.dev/google/edgetpu/vision/mobilenet-edgetpu-v2-feature-vector/tiny/2'}\n",
            "True\n"
          ]
        }
      ]
    },
    {
      "cell_type": "code",
      "source": [
        "m.compile(loss='categorical_crossentropy',\n",
        "              optimizer=tf.keras.optimizers.Adam(),\n",
        "              metrics=['accuracy'])\n",
        "m.fit(train_generator, epochs=10,batch_size=batch_size)"
      ],
      "metadata": {
        "colab": {
          "base_uri": "https://localhost:8080/"
        },
        "id": "ICJmpSLDTOG5",
        "outputId": "4b2fa3fc-e59a-46b0-e100-4f6f28dd89cf"
      },
      "execution_count": 10,
      "outputs": [
        {
          "output_type": "stream",
          "name": "stdout",
          "text": [
            "Epoch 1/10\n",
            "379/379 [==============================] - 3530s 9s/step - loss: 1.4489 - accuracy: 0.5422\n",
            "Epoch 2/10\n",
            "379/379 [==============================] - 2623s 7s/step - loss: 1.0703 - accuracy: 0.6565\n",
            "Epoch 3/10\n",
            "379/379 [==============================] - 2594s 7s/step - loss: 0.9505 - accuracy: 0.7033\n",
            "Epoch 4/10\n",
            "379/379 [==============================] - 2605s 7s/step - loss: 0.8564 - accuracy: 0.7288\n",
            "Epoch 5/10\n",
            "379/379 [==============================] - 2578s 7s/step - loss: 0.7933 - accuracy: 0.7443\n",
            "Epoch 6/10\n",
            "379/379 [==============================] - 2631s 7s/step - loss: 0.7224 - accuracy: 0.7650\n",
            "Epoch 7/10\n",
            "379/379 [==============================] - 2594s 7s/step - loss: 0.6931 - accuracy: 0.7755\n",
            "Epoch 8/10\n",
            "379/379 [==============================] - 2583s 7s/step - loss: 0.6524 - accuracy: 0.7883\n",
            "Epoch 9/10\n",
            "379/379 [==============================] - 2558s 7s/step - loss: 0.6109 - accuracy: 0.8013\n",
            "Epoch 10/10\n",
            "379/379 [==============================] - 2565s 7s/step - loss: 0.5578 - accuracy: 0.8144\n"
          ]
        },
        {
          "output_type": "execute_result",
          "data": {
            "text/plain": [
              "<keras.callbacks.History at 0x7f1054c95150>"
            ]
          },
          "metadata": {},
          "execution_count": 10
        }
      ]
    },
    {
      "cell_type": "code",
      "source": [],
      "metadata": {
        "id": "aNR3YVo4cei5"
      },
      "execution_count": null,
      "outputs": []
    },
    {
      "cell_type": "code",
      "source": [],
      "metadata": {
        "id": "72X1dsqtTOK6"
      },
      "execution_count": null,
      "outputs": []
    },
    {
      "cell_type": "code",
      "source": [
        "\n",
        "\n",
        "# Evaluate the model on the test generator\n",
        "test_loss, test_accuracy = m.evaluate(test_generator)\n",
        "\n",
        "print(\"Test Loss:\", test_loss)\n",
        "print(\"Test Accuracy:\", test_accuracy)"
      ],
      "metadata": {
        "colab": {
          "base_uri": "https://localhost:8080/"
        },
        "id": "p4ooMD3KTONv",
        "outputId": "85a9b1e3-034c-4e4c-e07c-95628a62b83e"
      },
      "execution_count": 11,
      "outputs": [
        {
          "output_type": "stream",
          "name": "stdout",
          "text": [
            "16/16 [==============================] - 119s 8s/step - loss: 1.3335 - accuracy: 0.6440\n",
            "Test Loss: 1.3334535360336304\n",
            "Test Accuracy: 0.6439999938011169\n"
          ]
        }
      ]
    },
    {
      "cell_type": "code",
      "source": [
        "m.save_weights('squeezeNet.h5')"
      ],
      "metadata": {
        "id": "97342JDcTORs"
      },
      "execution_count": 12,
      "outputs": []
    },
    {
      "cell_type": "code",
      "source": [
        "from google.colab import files\n",
        "files.download('squeezeNet.h5')"
      ],
      "metadata": {
        "colab": {
          "base_uri": "https://localhost:8080/",
          "height": 17
        },
        "id": "AKKK6K1l6w1f",
        "outputId": "ef5193fb-0471-4191-ed58-8d0de40e38a2"
      },
      "execution_count": 13,
      "outputs": [
        {
          "output_type": "display_data",
          "data": {
            "text/plain": [
              "<IPython.core.display.Javascript object>"
            ],
            "application/javascript": [
              "\n",
              "    async function download(id, filename, size) {\n",
              "      if (!google.colab.kernel.accessAllowed) {\n",
              "        return;\n",
              "      }\n",
              "      const div = document.createElement('div');\n",
              "      const label = document.createElement('label');\n",
              "      label.textContent = `Downloading \"${filename}\": `;\n",
              "      div.appendChild(label);\n",
              "      const progress = document.createElement('progress');\n",
              "      progress.max = size;\n",
              "      div.appendChild(progress);\n",
              "      document.body.appendChild(div);\n",
              "\n",
              "      const buffers = [];\n",
              "      let downloaded = 0;\n",
              "\n",
              "      const channel = await google.colab.kernel.comms.open(id);\n",
              "      // Send a message to notify the kernel that we're ready.\n",
              "      channel.send({})\n",
              "\n",
              "      for await (const message of channel.messages) {\n",
              "        // Send a message to notify the kernel that we're ready.\n",
              "        channel.send({})\n",
              "        if (message.buffers) {\n",
              "          for (const buffer of message.buffers) {\n",
              "            buffers.push(buffer);\n",
              "            downloaded += buffer.byteLength;\n",
              "            progress.value = downloaded;\n",
              "          }\n",
              "        }\n",
              "      }\n",
              "      const blob = new Blob(buffers, {type: 'application/binary'});\n",
              "      const a = document.createElement('a');\n",
              "      a.href = window.URL.createObjectURL(blob);\n",
              "      a.download = filename;\n",
              "      div.appendChild(a);\n",
              "      a.click();\n",
              "      div.remove();\n",
              "    }\n",
              "  "
            ]
          },
          "metadata": {}
        },
        {
          "output_type": "display_data",
          "data": {
            "text/plain": [
              "<IPython.core.display.Javascript object>"
            ],
            "application/javascript": [
              "download(\"download_e177f77a-4cdc-40d4-a4ef-1aac01fae780\", \"squeezeNet.h5\", 10464272)"
            ]
          },
          "metadata": {}
        }
      ]
    },
    {
      "cell_type": "code",
      "source": [],
      "metadata": {
        "id": "ZWWlMI-Pr_xG"
      },
      "execution_count": null,
      "outputs": []
    }
  ]
}