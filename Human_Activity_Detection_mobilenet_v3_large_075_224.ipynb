{
  "nbformat": 4,
  "nbformat_minor": 0,
  "metadata": {
    "colab": {
      "provenance": [],
      "gpuType": "T4",
      "authorship_tag": "ABX9TyNQX6v8nJNVpx9FbMTx3+d3",
      "include_colab_link": true
    },
    "kernelspec": {
      "name": "python3",
      "display_name": "Python 3"
    },
    "language_info": {
      "name": "python"
    },
    "gpuClass": "standard"
  },
  "cells": [
    {
      "cell_type": "markdown",
      "metadata": {
        "id": "view-in-github",
        "colab_type": "text"
      },
      "source": [
        "<a href=\"https://colab.research.google.com/github/PRASANNA-416/Human-Activity-Detection-/blob/main/Human_Activity_Detection_mobilenet_v3_large_075_224.ipynb\" target=\"_parent\"><img src=\"https://colab.research.google.com/assets/colab-badge.svg\" alt=\"Open In Colab\"/></a>"
      ]
    },
    {
      "cell_type": "code",
      "execution_count": 2,
      "metadata": {
        "colab": {
          "base_uri": "https://localhost:8080/"
        },
        "id": "r0ZYk-cyyHE1",
        "outputId": "f5678af3-eecd-4c8c-d7f6-1c1ea7b80e97"
      },
      "outputs": [
        {
          "output_type": "stream",
          "name": "stdout",
          "text": [
            "Drive already mounted at /content/gdrive; to attempt to forcibly remount, call drive.mount(\"/content/gdrive\", force_remount=True).\n"
          ]
        }
      ],
      "source": [
        "from google.colab import drive\n",
        "drive.mount(\"/content/gdrive\")"
      ]
    },
    {
      "cell_type": "code",
      "source": [
        "import pandas as pd\n",
        "\n",
        "# Load the training CSV file\n",
        "train_csv_path = '/content/gdrive/MyDrive/ML/Human Action Recognition/Training_set.csv'\n",
        "train_data = pd.read_csv(train_csv_path)\n",
        "\n",
        "# Load the testing CSV file\n",
        "test_csv_path = '/content/gdrive/MyDrive/ML/Human Action Recognition/testing_set.csv'\n",
        "test_data = pd.read_csv(test_csv_path)"
      ],
      "metadata": {
        "id": "uT8D4X1GyOhs"
      },
      "execution_count": 3,
      "outputs": []
    },
    {
      "cell_type": "code",
      "source": [
        "import pandas as pd\n",
        "import numpy as np\n",
        "from tensorflow.keras.preprocessing.image import ImageDataGenerator\n",
        "\n",
        "# Load the CSV files\n",
        "train_csv_path = '/content/gdrive/MyDrive/ML/Human Action Recognition/Training_set.csv'\n",
        "test_csv_path = '/content/gdrive/MyDrive/ML/Human Action Recognition/testing_set.csv'\n",
        "\n",
        "train_data = pd.read_csv(train_csv_path)\n",
        "test_data = pd.read_csv(test_csv_path)\n",
        "\n",
        "# Define the target image size and batch size\n",
        "target_size = (224, 224)  # Adjust according to your requirements\n",
        "batch_size = 32\n",
        "\n",
        "# Create ImageDataGenerators with preprocessing options\n",
        "train_datagen = ImageDataGenerator(\n",
        "    rescale=1.0/255.0,  # Normalize pixel values between 0 and 1\n",
        "    rotation_range=20,  # Randomly rotate images by 20 degrees\n",
        "    width_shift_range=0.2,  # Randomly shift the width by 20%\n",
        "    height_shift_range=0.2,  # Randomly shift the height by 20%\n",
        "    horizontal_flip=True  # Randomly flip images horizontally\n",
        ")\n",
        "\n",
        "test_datagen = ImageDataGenerator(rescale=1.0/255.0)\n",
        "\n",
        "# Create train and test generators\n",
        "train_generator = train_datagen.flow_from_dataframe(\n",
        "    dataframe=train_data,\n",
        "    directory='/content/gdrive/MyDrive/ML/Human Action Recognition/train',  # Directory containing the train images\n",
        "    x_col='filename',  # Column name for the filenames\n",
        "    y_col='label',  # Column name for the labels\n",
        "    target_size=target_size,\n",
        "    batch_size=batch_size,\n",
        "    class_mode='categorical'\n",
        ")\n",
        "\n",
        "test_generator = test_datagen.flow_from_dataframe(\n",
        "    dataframe=test_data,\n",
        "    directory='/content/gdrive/MyDrive/ML/Human Action Recognition/test',\n",
        "    x_col='filename',  # Column name for the filenames\n",
        "    y_col='label',  # Column name for the labels\n",
        "    target_size=target_size,\n",
        "    batch_size=batch_size,\n",
        "    class_mode='categorical'\n",
        ")\n",
        "\n",
        "# Check the class indices assigned by the generator\n",
        "class_indices = test_generator.class_indices\n",
        "print(class_indices)\n",
        "\n"
      ],
      "metadata": {
        "colab": {
          "base_uri": "https://localhost:8080/"
        },
        "id": "JevbvIbbyOkr",
        "outputId": "dd9314ac-8386-40ee-b3bd-9b91fc530309"
      },
      "execution_count": 4,
      "outputs": [
        {
          "output_type": "stream",
          "name": "stdout",
          "text": [
            "Found 12100 validated image filenames belonging to 15 classes.\n",
            "Found 500 validated image filenames belonging to 15 classes.\n",
            "{'calling': 0, 'clapping': 1, 'cycling': 2, 'dancing': 3, 'drinking': 4, 'eating': 5, 'fighting': 6, 'hugging': 7, 'laughing': 8, 'listening_to_music': 9, 'running': 10, 'sitting': 11, 'sleeping': 12, 'texting': 13, 'using_laptop': 14}\n"
          ]
        }
      ]
    },
    {
      "cell_type": "code",
      "source": [
        "import tensorflow as tf\n",
        "import tensorflow_hub as hub\n",
        "\n",
        "# Define the model\n",
        "m = tf.keras.Sequential([\n",
        "    hub.KerasLayer(\n",
        "        'https://tfhub.dev/google/imagenet/mobilenet_v3_large_075_224/feature_vector/5',\n",
        "        trainable=True),\n",
        "    tf.keras.layers.Flatten(),\n",
        "    tf.keras.layers.Dense(256, activation='relu'),\n",
        "    tf.keras.layers.Dense(15, activation='softmax')\n",
        "])\n",
        "\n",
        "\n",
        "# Build the model with the default input shape\n",
        "m.build((None, 224, 224, 3))  # Batch input shape.\n",
        "\n",
        "# Print the model summary\n",
        "print(m.summary())\n",
        "\n"
      ],
      "metadata": {
        "colab": {
          "base_uri": "https://localhost:8080/"
        },
        "id": "ratj8Ak7yOnc",
        "outputId": "54bceb16-0e99-4163-c2d2-0e1557a549f1"
      },
      "execution_count": 5,
      "outputs": [
        {
          "output_type": "stream",
          "name": "stdout",
          "text": [
            "Model: \"sequential\"\n",
            "_________________________________________________________________\n",
            " Layer (type)                Output Shape              Param #   \n",
            "=================================================================\n",
            " keras_layer (KerasLayer)    (None, 1280)              2731616   \n",
            "                                                                 \n",
            " flatten (Flatten)           (None, 1280)              0         \n",
            "                                                                 \n",
            " dense (Dense)               (None, 256)               327936    \n",
            "                                                                 \n",
            " dense_1 (Dense)             (None, 15)                3855      \n",
            "                                                                 \n",
            "=================================================================\n",
            "Total params: 3,063,407\n",
            "Trainable params: 3,044,319\n",
            "Non-trainable params: 19,088\n",
            "_________________________________________________________________\n",
            "None\n"
          ]
        }
      ]
    },
    {
      "cell_type": "code",
      "source": [
        "\n",
        "m.compile(loss='categorical_crossentropy',\n",
        "              optimizer=tf.keras.optimizers.Adam(),\n",
        "              metrics=['accuracy'])\n",
        "m.fit(train_generator, epochs=10,batch_size=batch_size)"
      ],
      "metadata": {
        "colab": {
          "base_uri": "https://localhost:8080/"
        },
        "id": "Rl9g1g8iyOqO",
        "outputId": "c35680d6-1040-4642-e75c-9fee0833a311"
      },
      "execution_count": 6,
      "outputs": [
        {
          "output_type": "stream",
          "name": "stdout",
          "text": [
            "Epoch 1/10\n",
            "379/379 [==============================] - 2682s 7s/step - loss: 1.9355 - accuracy: 0.5877\n",
            "Epoch 2/10\n",
            "379/379 [==============================] - 1804s 5s/step - loss: 1.5113 - accuracy: 0.7193\n",
            "Epoch 3/10\n",
            "379/379 [==============================] - 1780s 5s/step - loss: 1.3373 - accuracy: 0.7722\n",
            "Epoch 4/10\n",
            "379/379 [==============================] - 1781s 5s/step - loss: 1.2358 - accuracy: 0.7998\n",
            "Epoch 5/10\n",
            "379/379 [==============================] - 1772s 5s/step - loss: 1.1377 - accuracy: 0.8233\n",
            "Epoch 6/10\n",
            "379/379 [==============================] - 1773s 5s/step - loss: 1.0719 - accuracy: 0.8421\n",
            "Epoch 7/10\n",
            "379/379 [==============================] - 1783s 5s/step - loss: 1.0357 - accuracy: 0.8518\n",
            "Epoch 8/10\n",
            "379/379 [==============================] - 1776s 5s/step - loss: 0.9901 - accuracy: 0.8635\n",
            "Epoch 9/10\n",
            "379/379 [==============================] - 1781s 5s/step - loss: 0.9425 - accuracy: 0.8764\n",
            "Epoch 10/10\n",
            "379/379 [==============================] - 1791s 5s/step - loss: 0.9086 - accuracy: 0.8881\n"
          ]
        },
        {
          "output_type": "execute_result",
          "data": {
            "text/plain": [
              "<keras.callbacks.History at 0x7f1516550310>"
            ]
          },
          "metadata": {},
          "execution_count": 6
        }
      ]
    },
    {
      "cell_type": "code",
      "source": [
        "\n",
        "\n",
        "\n",
        "\n",
        "# Evaluate the model on the test generator\n",
        "test_loss, test_accuracy = m.evaluate(test_generator)\n",
        "\n",
        "print(\"Test Loss:\", test_loss)\n",
        "print(\"Test Accuracy:\", test_accuracy)"
      ],
      "metadata": {
        "colab": {
          "base_uri": "https://localhost:8080/"
        },
        "id": "kxbhCsslyOs4",
        "outputId": "e0a2c50b-68a3-439e-d4c0-d238a4fb2943"
      },
      "execution_count": 7,
      "outputs": [
        {
          "output_type": "stream",
          "name": "stdout",
          "text": [
            "16/16 [==============================] - 101s 6s/step - loss: 1.8526 - accuracy: 0.7080\n",
            "Test Loss: 1.8525725603103638\n",
            "Test Accuracy: 0.7080000042915344\n"
          ]
        }
      ]
    },
    {
      "cell_type": "code",
      "source": [],
      "metadata": {
        "id": "6QAW2UgJyryB"
      },
      "execution_count": null,
      "outputs": []
    },
    {
      "cell_type": "code",
      "source": [
        "\n",
        "m.save_weights('mobiletNetv3large.h5')"
      ],
      "metadata": {
        "id": "qnU22IQvyr1A"
      },
      "execution_count": 8,
      "outputs": []
    },
    {
      "cell_type": "code",
      "source": [
        "\n",
        "from google.colab import files\n",
        "files.download('mobiletNetv3large.h5')"
      ],
      "metadata": {
        "colab": {
          "base_uri": "https://localhost:8080/",
          "height": 17
        },
        "id": "_awP91o2ytac",
        "outputId": "69d80c58-6e5f-48f4-d0cb-2232321097ea"
      },
      "execution_count": 9,
      "outputs": [
        {
          "output_type": "display_data",
          "data": {
            "text/plain": [
              "<IPython.core.display.Javascript object>"
            ],
            "application/javascript": [
              "\n",
              "    async function download(id, filename, size) {\n",
              "      if (!google.colab.kernel.accessAllowed) {\n",
              "        return;\n",
              "      }\n",
              "      const div = document.createElement('div');\n",
              "      const label = document.createElement('label');\n",
              "      label.textContent = `Downloading \"${filename}\": `;\n",
              "      div.appendChild(label);\n",
              "      const progress = document.createElement('progress');\n",
              "      progress.max = size;\n",
              "      div.appendChild(progress);\n",
              "      document.body.appendChild(div);\n",
              "\n",
              "      const buffers = [];\n",
              "      let downloaded = 0;\n",
              "\n",
              "      const channel = await google.colab.kernel.comms.open(id);\n",
              "      // Send a message to notify the kernel that we're ready.\n",
              "      channel.send({})\n",
              "\n",
              "      for await (const message of channel.messages) {\n",
              "        // Send a message to notify the kernel that we're ready.\n",
              "        channel.send({})\n",
              "        if (message.buffers) {\n",
              "          for (const buffer of message.buffers) {\n",
              "            buffers.push(buffer);\n",
              "            downloaded += buffer.byteLength;\n",
              "            progress.value = downloaded;\n",
              "          }\n",
              "        }\n",
              "      }\n",
              "      const blob = new Blob(buffers, {type: 'application/binary'});\n",
              "      const a = document.createElement('a');\n",
              "      a.href = window.URL.createObjectURL(blob);\n",
              "      a.download = filename;\n",
              "      div.appendChild(a);\n",
              "      a.click();\n",
              "      div.remove();\n",
              "    }\n",
              "  "
            ]
          },
          "metadata": {}
        },
        {
          "output_type": "display_data",
          "data": {
            "text/plain": [
              "<IPython.core.display.Javascript object>"
            ],
            "application/javascript": [
              "download(\"download_b07e03d1-281b-4ef5-a140-d53948465c1c\", \"mobiletNetv3large.h5\", 12501304)"
            ]
          },
          "metadata": {}
        }
      ]
    },
    {
      "cell_type": "code",
      "source": [],
      "metadata": {
        "id": "0t7j6y4dls6y"
      },
      "execution_count": null,
      "outputs": []
    }
  ]
}